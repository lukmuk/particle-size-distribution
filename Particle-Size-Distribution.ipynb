{
 "cells": [
  {
   "cell_type": "markdown",
   "id": "3256e4e9-6d5e-4c4e-9e29-5f0c5fa73139",
   "metadata": {},
   "source": [
    "# Particle Size Distribution\n",
    "Notebook by Lukas Grünewald, [https://github.com/lukmuk/particle-size-distribution](https://github.com/lukmuk/particle-size-distribution).\n",
    "\n",
    "## Purpose:\n",
    "Evaluate (nano)particle (or other) size distribution by fitting a distribution function and extracting statistical parameters in Python.  \n",
    "Requires `numpy`, `scipy`, and `pandas`. Additionally, the [uncertainties](https://pythonhosted.org/uncertainties/) package is used to handle error propagation.  \n",
    "\n",
    "## Usage:\n",
    "Segmentation and size measurements (e.g. areas, Feret diameters, ...) were extracted using *Fiji*.  \n",
    "The `Results.csv` of the `Analyze particles...` function in *Fiji* is loaded here for analysis.  \n",
    "Multiple `.csv` files can be loaded and stacked using `pandas`.  \n",
    "To start, put the `.csv` files into the same folder with a copy of this notebook.\n",
    "\n",
    "In the following example, particle/grain sizes of an SEM image were measured in *Fiji* using [ParticleSizer](https://imagej.net/plugins/particlesizer).  \n",
    "The projected areas and the mininmum Feret diameters are taken as the size metric and a log-normal distribution is fitted to the histograms."
   ]
  },
  {
   "cell_type": "code",
   "execution_count": 29,
   "id": "4c9a5402-4371-47cf-9f2a-03fc8880a967",
   "metadata": {},
   "outputs": [
    {
     "name": "stdout",
     "output_type": "stream",
     "text": [
      "The watermark extension is already loaded. To reload it, use:\n",
      "  %reload_ext watermark\n"
     ]
    }
   ],
   "source": [
    "%load_ext watermark"
   ]
  },
  {
   "cell_type": "code",
   "execution_count": 30,
   "id": "2d944776-d481-4fcf-bf90-4d8d39039b96",
   "metadata": {},
   "outputs": [],
   "source": [
    "import numpy as np\n",
    "import matplotlib.pyplot as plt\n",
    "import pandas as pd\n",
    "import glob\n",
    "\n",
    "from scipy.optimize import curve_fit\n",
    "\n",
    "#For error propagation:\n",
    "from uncertainties import ufloat, unumpy\n",
    "from uncertainties.umath import *"
   ]
  },
  {
   "cell_type": "code",
   "execution_count": 31,
   "id": "b35d0d58-b13d-4e8e-931a-3a986ea85d19",
   "metadata": {},
   "outputs": [
    {
     "name": "stdout",
     "output_type": "stream",
     "text": [
      "Last updated: 2022-10-17T09:28:17.317591+02:00\n",
      "\n",
      "Python implementation: CPython\n",
      "Python version       : 3.9.13\n",
      "IPython version      : 8.5.0\n",
      "\n",
      "Compiler    : MSC v.1916 64 bit (AMD64)\n",
      "OS          : Windows\n",
      "Release     : 10\n",
      "Machine     : AMD64\n",
      "Processor   : Intel64 Family 6 Model 165 Stepping 5, GenuineIntel\n",
      "CPU cores   : 16\n",
      "Architecture: 64bit\n",
      "\n",
      "pandas       : 1.4.3\n",
      "uncertainties: 3.1.7\n",
      "matplotlib   : 3.5.2\n",
      "numpy        : 1.21.5\n",
      "\n"
     ]
    }
   ],
   "source": [
    "#Print package versions\n",
    "%watermark -i -v -u -m --iversions"
   ]
  },
  {
   "cell_type": "markdown",
   "id": "8c86723a-099e-4e49-b165-74c26474cb24",
   "metadata": {},
   "source": [
    "### Define a particle size distribution  \n",
    "Here, we use a log-normal distribution (or probability density function, PDF) as an example.  \n",
    "I tested other variants such as using [scipy.stats.lognorm](https://docs.scipy.org/doc/scipy/reference/generated/scipy.stats.lognorm.html) but the following approach gave me best results and easy access to the statistical fitting errors."
   ]
  },
  {
   "cell_type": "code",
   "execution_count": 32,
   "id": "4071c52a-7a66-4c4b-92bd-9c564884302b",
   "metadata": {},
   "outputs": [],
   "source": [
    "def pdf(x, mu, sigma):\n",
    "    \"\"\"Probability density function of a log-normal distribution\"\"\"\n",
    "    return (np.exp(-(np.log(x) - mu)**2 / (2 * sigma**2)) / (x * sigma * np.sqrt(2 * np.pi)))"
   ]
  },
  {
   "cell_type": "markdown",
   "id": "a9dd3642-d9b4-4adb-8068-63218171c845",
   "metadata": {},
   "source": [
    "For a nice discussion about the [log-normal distribution](https://en.wikipedia.org/wiki/Log-normal_distribution) in this context, see  \n",
    "E. Limpert, W. A. Stahel, and M. Abbt, *BioScience*, **51**, 5,(2001) 341–352, doi: [10.1641/0006-3568(2001)051](https://doi.org/10.1641/0006-3568(2001)051[0341:LNDATS]2.0.CO;2). The above definition is\n",
    "\n",
    "$$    {\\displaystyle f(x)={\\frac {1}{{\\sqrt {2\\pi }}\\sigma x}}\\,\\exp {\\Big (}-{\\frac {(\\ln(x)-\\mu )^{2}}{2\\sigma ^{2}}}{\\Big )},\\quad x>0}$$\n",
    "with the mean $\\mu$ and standard deviation $\\sigma$ of $\\ln(x)$ as fit parameters."
   ]
  },
  {
   "cell_type": "markdown",
   "id": "406b7ba8-653b-48a4-98c4-643a9c764878",
   "metadata": {},
   "source": [
    "### Properties for the log-normal distribution \n",
    "We calculate the mode $M$, median $m$, arithmetic mean $\\mu_\\text{a}$, and standard deviation $\\sigma_\\text{a}$ for the measured values $x$ from the fitted $\\mu$ and $\\sigma$ parameters.  \n",
    "Statistical fitting errors on $\\mu$ and $\\sigma$ will be propagated by the ``uncertainties`` [package](https://pythonhosted.org/uncertainties/).\n",
    "$$M(x)=e^{\\mu -\\sigma ^{2}}$$\n",
    "$$m(x)=e^{\\mu}$$\n",
    "$$\\mu_\\text{a}(x)=e^{\\mu + \\frac{\\sigma ^{2}}{2}}$$\n",
    "$$\\sigma_\\text{a}(x)=e^{\\mu +{\\tfrac {1}{2}}\\sigma ^{2}}{\\sqrt {e^{\\sigma ^{2}}-1}}$$"
   ]
  },
  {
   "cell_type": "markdown",
   "id": "74ffb108-fe70-4d17-8f92-d2a25923386e",
   "metadata": {},
   "source": [
    "#### Scatter intervals\n",
    "\n",
    "For a log-normal distribution, with geometric mean and standard deviation $\\mu^{∗}=e^\\mu$ and $\\sigma^{∗} = e^\\sigma$, \n",
    "$$[ \\mu^{∗}/ \\sigma^{∗} , \\mu^{∗}\\cdot\\sigma^{∗} ]$$\n",
    "contains 68 %, and \n",
    "$$[ \\mu^{∗}/ \\left(\\sigma^{∗}\\right)^2 , \\mu^{∗}\\cdot\\left(\\sigma^{∗}\\right)^2 ]$$ \n",
    "contains 95 % of the probability."
   ]
  },
  {
   "cell_type": "markdown",
   "id": "abfc1f21-1c13-4975-aff7-abcf0418c63b",
   "metadata": {},
   "source": [
    "## Load and inspect data"
   ]
  },
  {
   "cell_type": "markdown",
   "id": "1cb8ec90-c48f-453f-be30-5a7a9b427d9f",
   "metadata": {},
   "source": [
    "Load the data:"
   ]
  },
  {
   "cell_type": "code",
   "execution_count": 33,
   "id": "ddb80fc7-64e1-4c04-91ea-2e1bdaf78125",
   "metadata": {},
   "outputs": [],
   "source": [
    "# Grab and stack all csv files in working directory in a pandas data frame\n",
    "df = pd.concat([pd.read_csv(filename, header=0, index_col=None) for filename in glob.glob('*.csv')], ignore_index=True)"
   ]
  },
  {
   "cell_type": "code",
   "execution_count": 34,
   "id": "4988df8b-4286-43b7-85ce-f8a1b852ad31",
   "metadata": {},
   "outputs": [
    {
     "data": {
      "text/plain": [
       "(2313, 27)"
      ]
     },
     "execution_count": 34,
     "metadata": {},
     "output_type": "execute_result"
    }
   ],
   "source": [
    "df.shape"
   ]
  },
  {
   "cell_type": "code",
   "execution_count": 35,
   "id": "02da0803-08da-4baf-bfe1-77f2142b24e0",
   "metadata": {},
   "outputs": [
    {
     "name": "stdout",
     "output_type": "stream",
     "text": [
      "Number of measured particles/grains: 2313\n"
     ]
    }
   ],
   "source": [
    "print(f'Number of measured particles/grains: {df.shape[0]}')"
   ]
  },
  {
   "cell_type": "code",
   "execution_count": 36,
   "id": "a3b79eef-f517-41ce-aba0-b95955db45da",
   "metadata": {},
   "outputs": [
    {
     "data": {
      "text/html": [
       "<div>\n",
       "<style scoped>\n",
       "    .dataframe tbody tr th:only-of-type {\n",
       "        vertical-align: middle;\n",
       "    }\n",
       "\n",
       "    .dataframe tbody tr th {\n",
       "        vertical-align: top;\n",
       "    }\n",
       "\n",
       "    .dataframe thead th {\n",
       "        text-align: right;\n",
       "    }\n",
       "</style>\n",
       "<table border=\"1\" class=\"dataframe\">\n",
       "  <thead>\n",
       "    <tr style=\"text-align: right;\">\n",
       "      <th></th>\n",
       "      <th></th>\n",
       "      <th>Frame</th>\n",
       "      <th>Label</th>\n",
       "      <th>X</th>\n",
       "      <th>Y</th>\n",
       "      <th>Area</th>\n",
       "      <th>Area Conv. Hull</th>\n",
       "      <th>Peri.</th>\n",
       "      <th>Peri. Conv. Hull</th>\n",
       "      <th>Feret</th>\n",
       "      <th>...</th>\n",
       "      <th>Circ.</th>\n",
       "      <th>Elong.</th>\n",
       "      <th>Convexity</th>\n",
       "      <th>Solidity</th>\n",
       "      <th>Num. of Holes</th>\n",
       "      <th>Thinnes Rt.</th>\n",
       "      <th>Contour Temp.</th>\n",
       "      <th>Orientation</th>\n",
       "      <th>Fract. Dim.</th>\n",
       "      <th>Fract. Dim. Goodness</th>\n",
       "    </tr>\n",
       "  </thead>\n",
       "  <tbody>\n",
       "    <tr>\n",
       "      <th>0</th>\n",
       "      <td>1</td>\n",
       "      <td>1</td>\n",
       "      <td>1</td>\n",
       "      <td>5212.984</td>\n",
       "      <td>58.421</td>\n",
       "      <td>17268.571</td>\n",
       "      <td>17565.719</td>\n",
       "      <td>484.196</td>\n",
       "      <td>492.264</td>\n",
       "      <td>188.315</td>\n",
       "      <td>...</td>\n",
       "      <td>13.576</td>\n",
       "      <td>0.575</td>\n",
       "      <td>1.0</td>\n",
       "      <td>0.983</td>\n",
       "      <td>0</td>\n",
       "      <td>0.926</td>\n",
       "      <td>0.145</td>\n",
       "      <td>8.018</td>\n",
       "      <td>1.624</td>\n",
       "      <td>0.992</td>\n",
       "    </tr>\n",
       "    <tr>\n",
       "      <th>1</th>\n",
       "      <td>2</td>\n",
       "      <td>1</td>\n",
       "      <td>2</td>\n",
       "      <td>2357.451</td>\n",
       "      <td>42.488</td>\n",
       "      <td>3744.071</td>\n",
       "      <td>3803.500</td>\n",
       "      <td>209.429</td>\n",
       "      <td>215.342</td>\n",
       "      <td>74.912</td>\n",
       "      <td>...</td>\n",
       "      <td>11.715</td>\n",
       "      <td>0.349</td>\n",
       "      <td>1.0</td>\n",
       "      <td>0.984</td>\n",
       "      <td>0</td>\n",
       "      <td>1.000</td>\n",
       "      <td>0.163</td>\n",
       "      <td>167.523</td>\n",
       "      <td>1.485</td>\n",
       "      <td>0.964</td>\n",
       "    </tr>\n",
       "    <tr>\n",
       "      <th>2</th>\n",
       "      <td>3</td>\n",
       "      <td>1</td>\n",
       "      <td>3</td>\n",
       "      <td>4118.055</td>\n",
       "      <td>62.085</td>\n",
       "      <td>6732.535</td>\n",
       "      <td>6868.374</td>\n",
       "      <td>303.054</td>\n",
       "      <td>305.301</td>\n",
       "      <td>118.321</td>\n",
       "      <td>...</td>\n",
       "      <td>13.641</td>\n",
       "      <td>0.631</td>\n",
       "      <td>1.0</td>\n",
       "      <td>0.980</td>\n",
       "      <td>0</td>\n",
       "      <td>0.921</td>\n",
       "      <td>0.124</td>\n",
       "      <td>60.433</td>\n",
       "      <td>1.582</td>\n",
       "      <td>0.992</td>\n",
       "    </tr>\n",
       "    <tr>\n",
       "      <th>3</th>\n",
       "      <td>4</td>\n",
       "      <td>1</td>\n",
       "      <td>4</td>\n",
       "      <td>1474.562</td>\n",
       "      <td>43.515</td>\n",
       "      <td>3226.183</td>\n",
       "      <td>3319.573</td>\n",
       "      <td>199.627</td>\n",
       "      <td>203.314</td>\n",
       "      <td>76.483</td>\n",
       "      <td>...</td>\n",
       "      <td>12.352</td>\n",
       "      <td>0.512</td>\n",
       "      <td>1.0</td>\n",
       "      <td>0.972</td>\n",
       "      <td>0</td>\n",
       "      <td>1.000</td>\n",
       "      <td>0.148</td>\n",
       "      <td>132.645</td>\n",
       "      <td>1.432</td>\n",
       "      <td>0.951</td>\n",
       "    </tr>\n",
       "    <tr>\n",
       "      <th>4</th>\n",
       "      <td>5</td>\n",
       "      <td>1</td>\n",
       "      <td>5</td>\n",
       "      <td>2183.952</td>\n",
       "      <td>69.811</td>\n",
       "      <td>7640.960</td>\n",
       "      <td>7802.270</td>\n",
       "      <td>346.958</td>\n",
       "      <td>350.991</td>\n",
       "      <td>146.153</td>\n",
       "      <td>...</td>\n",
       "      <td>15.755</td>\n",
       "      <td>0.717</td>\n",
       "      <td>1.0</td>\n",
       "      <td>0.979</td>\n",
       "      <td>0</td>\n",
       "      <td>0.798</td>\n",
       "      <td>0.135</td>\n",
       "      <td>64.133</td>\n",
       "      <td>1.623</td>\n",
       "      <td>0.991</td>\n",
       "    </tr>\n",
       "  </tbody>\n",
       "</table>\n",
       "<p>5 rows × 27 columns</p>\n",
       "</div>"
      ],
      "text/plain": [
       "      Frame  Label         X       Y       Area  Area Conv. Hull    Peri.  \\\n",
       "0  1      1      1  5212.984  58.421  17268.571        17565.719  484.196   \n",
       "1  2      1      2  2357.451  42.488   3744.071         3803.500  209.429   \n",
       "2  3      1      3  4118.055  62.085   6732.535         6868.374  303.054   \n",
       "3  4      1      4  1474.562  43.515   3226.183         3319.573  199.627   \n",
       "4  5      1      5  2183.952  69.811   7640.960         7802.270  346.958   \n",
       "\n",
       "   Peri. Conv. Hull    Feret  ...   Circ.  Elong.  Convexity  Solidity  \\\n",
       "0           492.264  188.315  ...  13.576   0.575        1.0     0.983   \n",
       "1           215.342   74.912  ...  11.715   0.349        1.0     0.984   \n",
       "2           305.301  118.321  ...  13.641   0.631        1.0     0.980   \n",
       "3           203.314   76.483  ...  12.352   0.512        1.0     0.972   \n",
       "4           350.991  146.153  ...  15.755   0.717        1.0     0.979   \n",
       "\n",
       "   Num. of Holes  Thinnes Rt.  Contour Temp.  Orientation  Fract. Dim.  \\\n",
       "0              0        0.926          0.145        8.018        1.624   \n",
       "1              0        1.000          0.163      167.523        1.485   \n",
       "2              0        0.921          0.124       60.433        1.582   \n",
       "3              0        1.000          0.148      132.645        1.432   \n",
       "4              0        0.798          0.135       64.133        1.623   \n",
       "\n",
       "   Fract. Dim. Goodness  \n",
       "0                 0.992  \n",
       "1                 0.964  \n",
       "2                 0.992  \n",
       "3                 0.951  \n",
       "4                 0.991  \n",
       "\n",
       "[5 rows x 27 columns]"
      ]
     },
     "execution_count": 36,
     "metadata": {},
     "output_type": "execute_result"
    }
   ],
   "source": [
    "# Inspect data set\n",
    "df.head()"
   ]
  },
  {
   "cell_type": "markdown",
   "id": "e37b202c-0373-4ac1-9862-049d88d93ddd",
   "metadata": {},
   "source": [
    "### Metric: Area-Equivalent Circle Diameter\n",
    "An often used metric is the area-equivalent circle diameter.  \n",
    "We calculate circles with equal size as the measured projected particle/grain size (``Area`` column)."
   ]
  },
  {
   "cell_type": "code",
   "execution_count": 37,
   "id": "a79f537a-9355-44eb-9c8b-bc7b59428702",
   "metadata": {},
   "outputs": [],
   "source": [
    "data = df['Area'].to_numpy()"
   ]
  },
  {
   "cell_type": "markdown",
   "id": "4ba07d60-8e4c-400f-84cc-50eca93aa360",
   "metadata": {},
   "source": [
    "Calculate area-equivalent diameters from areas: $${\\displaystyle d_{p}={\\sqrt {\\frac {4A}{\\pi }}}.}$$"
   ]
  },
  {
   "cell_type": "code",
   "execution_count": 38,
   "id": "7244b93b-1c29-42e7-82a4-fd4da72d0dd5",
   "metadata": {},
   "outputs": [],
   "source": [
    "data = np.sqrt(4*data/np.pi)"
   ]
  },
  {
   "cell_type": "markdown",
   "id": "38fb26b4-18c5-419a-9023-f5f58c36c55f",
   "metadata": {},
   "source": [
    "The next cell, plots the histogram, performs a fit of the (log-normal) distribution, and displays/saves the result.  "
   ]
  },
  {
   "cell_type": "code",
   "execution_count": 39,
   "id": "679e972e-f9fb-41a6-b9f7-384c83be2138",
   "metadata": {},
   "outputs": [
    {
     "name": "stdout",
     "output_type": "stream",
     "text": [
      "Mode:\t\t 72.2+/-1.2\n",
      "Median:\t\t 86.6+/-1.1\n",
      "Mean:\t\t 94.9+/-1.3\n",
      "Std. dev.:\t 42.4+/-1.5\n",
      "68% conf. intervall: 57.0+/-1.0 to 133.0+/-2.0\n",
      "95% conf. intervall: 37.0+/-1.0 to 203.0+/-5.0\n"
     ]
    },
    {
     "data": {
      "image/png": "[encoded data removed]",
      "text/plain": [
       "<Figure size 500x300 with 1 Axes>"
      ]
     },
     "metadata": {},
     "output_type": "display_data"
    }
   ],
   "source": [
    "# Create plot\n",
    "fig, ax = plt.subplots(figsize=(5, 3))\n",
    "\n",
    "# Normalized histogram\n",
    "n, bins, patches = ax.hist(data, bins='auto', density=True, facecolor = 'grey', alpha = 0.5, label=None)\n",
    "centers = (0.5*(bins[1:]+bins[:-1]))\n",
    "\n",
    "# Fit of pdf\n",
    "pars, cov = curve_fit(pdf, centers, n)\n",
    "\n",
    "# Draw pdf\n",
    "pdfcol ='k'\n",
    "xmin, xmax = ax.get_xlim()\n",
    "x = np.linspace(xmin, xmax, 1000)\n",
    "ax.plot(x, pdf(x, *pars), pdfcol , linewidth = 1.5, label=None, zorder=10)\n",
    "\n",
    "# Add fit parameters (mu, sigma, mode) as labels\n",
    "# Errors are from diagonal elements of cov (covariance matrix) --> sqrt(Var)=Std dev\n",
    "mu, sigma = unumpy.uarray(pars, np.sqrt(np.diag(cov)))\n",
    "\n",
    "muStar = exp(mu)\n",
    "sigStar = exp(sigma)\n",
    "confidence68 = (muStar/sigStar, muStar*sigStar) \n",
    "confidence95 = (muStar/sigStar**2, muStar*sigStar**2) \n",
    "\n",
    "mode = exp(mu - sigma ** 2)\n",
    "median = exp(mu)\n",
    "mean = exp(mu + sigma ** 2 / 2)\n",
    "std = exp(mu + sigma**2/2) * sqrt(exp(sigma**2)-1)\n",
    "\n",
    "print(f'Mode:\\t\\t {mode}')\n",
    "print(f'Median:\\t\\t {median}')\n",
    "print(f'Mean:\\t\\t {mean}')\n",
    "print(f'Std. dev.:\\t {std}')\n",
    "print(f'68% conf. intervall: {np.round(confidence68[0].nominal_value)}+/-{np.round(confidence68[0].std_dev)} to {np.round(confidence68[1].nominal_value)}+/-{np.round(confidence68[1].std_dev)}')\n",
    "print(f'95% conf. intervall: {np.round(confidence95[0].nominal_value)}+/-{np.round(confidence95[0].std_dev)} to {np.round(confidence95[1].nominal_value)}+/-{np.round(confidence95[1].std_dev)}')\n",
    "\n",
    "# Plot labels\n",
    "lb_std = rf'$\\sigma_\\mathregular{{a}} = ({np.round(std.nominal_value,1)} \\pm {np.round(std.std_dev,1)})$ nm'\n",
    "lb_mean = rf'$\\mu_\\mathregular{{a}} = ({np.round(mean.nominal_value,1)} \\pm {np.round(mean.std_dev,1)})$ nm'\n",
    "lb_mode = rf'$M = ({np.round(mode.nominal_value,1)} \\pm {np.round(mode.std_dev,1)})$ nm'\n",
    "lb_median = rf'$m = ({np.round(median.nominal_value,1)} \\pm {np.round(median.std_dev,1)})$ nm'\n",
    "lb_mu = f'$\\mu = {np.round(mu.nominal_value,3)} \\pm {np.round(mu.std_dev,3)}$'\n",
    "lb_sig = f'$\\sigma = {np.round(sigma.nominal_value,3)} \\pm {np.round(sigma.std_dev,3)}$'\n",
    "\n",
    "# Add vertical markers for positions of calculated properties\n",
    "# Mode\n",
    "ax.plot([mode.nominal_value, mode.nominal_value], [0, pdf(mode.nominal_value, *pars)], c='tab:orange', ls='--', label=lb_mode)\n",
    "\n",
    "# Median\n",
    "ax.plot([median.nominal_value, median.nominal_value], [0, pdf(median.nominal_value, *pars)], c='tab:pink', ls='-', label=lb_median)\n",
    "\n",
    "# Mean\n",
    "ax.plot([mean.nominal_value, mean.nominal_value], [0, pdf(mean.nominal_value, *pars)], c='tab:blue', ls='-.', label=lb_mean)\n",
    "\n",
    "# Confidence intervall 68%\n",
    "ci = confidence68\n",
    "ax.plot([ci[0].nominal_value, ci[0].nominal_value], [0, pdf(ci[0].nominal_value, *pars)], c=pdfcol, ls='dotted')\n",
    "ax.plot([ci[1].nominal_value, ci[1].nominal_value], [0, pdf(ci[1].nominal_value, *pars)], c=pdfcol, ls='dotted')\n",
    "\n",
    "# Confidence intervall 95%\n",
    "ci = confidence95\n",
    "ax.plot([ci[0].nominal_value, ci[0].nominal_value], [0, pdf(ci[0].nominal_value, *pars)], c=pdfcol, ls='dotted')\n",
    "ax.plot([ci[1].nominal_value, ci[1].nominal_value], [0, pdf(ci[1].nominal_value, *pars)], c=pdfcol, ls='dotted')\n",
    "\n",
    "# Gemerate empty plots, so that fit parameters are added in legend\n",
    "plt.plot([], [], ' ', label=lb_std)\n",
    "plt.plot([], [], ' ', label='Fit parameters:')\n",
    "plt.plot([], [], ' ', label=lb_mu)\n",
    "plt.plot([], [], ' ', label=lb_sig)\n",
    "\n",
    "# Cosmetics \n",
    "ax.set_title(f'Log-normal fit to area-equivalent circle diameters', fontsize=9)\n",
    "ax.set_xlabel('Area-equivalent circle diameter / nm', fontsize=9)\n",
    "ax.set_ylabel(\"Normalized frequency\", fontsize=9)\n",
    "plt.tick_params(axis='both', which='major', labelsize=7.5)\n",
    "\n",
    "ax.set_xlim(0,)\n",
    "#ax.set_ylim(0, np.max(pdf(x, *pars))*1.8)\n",
    "\n",
    "ax.legend(loc='best', handlelength=1, fontsize=8, ncol=1, columnspacing=0.1)\n",
    "plt.tight_layout(pad=0.1)\n",
    "fig.savefig('plots/AreaEquivalentCircleDiameter_normalized.pdf', pad_inches=0)"
   ]
  },
  {
   "cell_type": "markdown",
   "id": "60848a7d-1a6c-410a-9173-8350854d3663",
   "metadata": {},
   "source": [
    "### Metric:  Minimum Feret Diameter\n",
    "We can fit to another size metric from the pandas table by adjusting the `data` variable.\n",
    "Here, we switch to the minimum Feret diameter:"
   ]
  },
  {
   "cell_type": "code",
   "execution_count": 40,
   "id": "414a7079-44a8-4b50-9eeb-625f49c1cbff",
   "metadata": {},
   "outputs": [],
   "source": [
    "data = df['Min. Feret'].to_numpy()"
   ]
  },
  {
   "cell_type": "code",
   "execution_count": 41,
   "id": "c1347490-f4f9-4119-a2e3-ca071a38781b",
   "metadata": {},
   "outputs": [
    {
     "name": "stdout",
     "output_type": "stream",
     "text": [
      "Mode:\t\t 59.3+/-0.9\n",
      "Median:\t\t 71.9+/-0.8\n",
      "Mean:\t\t 79.2+/-1.0\n",
      "Std. dev.:\t 36.6+/-1.2\n",
      "68% conf. intervall: 46.0+/-1.0 to 112.0+/-2.0\n",
      "95% conf. intervall: 30.0+/-1.0 to 173.0+/-4.0\n"
     ]
    },
    {
     "data": {
      "image/png": "[encoded data removed]",
      "text/plain": [
       "<Figure size 500x300 with 1 Axes>"
      ]
     },
     "metadata": {},
     "output_type": "display_data"
    }
   ],
   "source": [
    "# Create plot\n",
    "fig, ax = plt.subplots(figsize=(5, 3))\n",
    "\n",
    "# Normalized histogram\n",
    "n, bins, patches = ax.hist(data, bins='auto', density=True, facecolor = 'grey', alpha = 0.5, label=None)\n",
    "centers = (0.5*(bins[1:]+bins[:-1]))\n",
    "\n",
    "# Fit of pdf\n",
    "pars, cov = curve_fit(pdf, centers, n)\n",
    "\n",
    "# Draw pdf\n",
    "pdfcol ='k'\n",
    "xmin, xmax = ax.get_xlim()\n",
    "x = np.linspace(xmin, xmax, 1000)\n",
    "ax.plot(x, pdf(x, *pars), pdfcol , linewidth = 1.5, label=None, zorder=10)\n",
    "\n",
    "# Add fit parameters (mu, sigma, mode) as labels\n",
    "# Errors are from diagonal elements of cov (covariance matrix) --> sqrt(Var)=Std dev\n",
    "mu, sigma = unumpy.uarray(pars, np.sqrt(np.diag(cov)))\n",
    "\n",
    "muStar = exp(mu)\n",
    "sigStar = exp(sigma)\n",
    "confidence68 = (muStar/sigStar, muStar*sigStar) \n",
    "confidence95 = (muStar/sigStar**2, muStar*sigStar**2) \n",
    "\n",
    "mode = exp(mu - sigma ** 2)\n",
    "median = exp(mu)\n",
    "mean = exp(mu + sigma ** 2 / 2)\n",
    "std = exp(mu + sigma**2/2) * sqrt(exp(sigma**2)-1)\n",
    "\n",
    "print(f'Mode:\\t\\t {mode}')\n",
    "print(f'Median:\\t\\t {median}')\n",
    "print(f'Mean:\\t\\t {mean}')\n",
    "print(f'Std. dev.:\\t {std}')\n",
    "print(f'68% conf. intervall: {np.round(confidence68[0].nominal_value)}+/-{np.round(confidence68[0].std_dev)} to {np.round(confidence68[1].nominal_value)}+/-{np.round(confidence68[1].std_dev)}')\n",
    "print(f'95% conf. intervall: {np.round(confidence95[0].nominal_value)}+/-{np.round(confidence95[0].std_dev)} to {np.round(confidence95[1].nominal_value)}+/-{np.round(confidence95[1].std_dev)}')\n",
    "\n",
    "# Plot labels\n",
    "lb_std = rf'$\\sigma_\\mathregular{{a}} = ({np.round(std.nominal_value,1)} \\pm {np.round(std.std_dev,1)})$ nm'\n",
    "lb_mean = rf'$\\mu_\\mathregular{{a}} = ({np.round(mean.nominal_value,1)} \\pm {np.round(mean.std_dev,1)})$ nm'\n",
    "lb_mode = rf'$M = ({np.round(mode.nominal_value,1)} \\pm {np.round(mode.std_dev,1)})$ nm'\n",
    "lb_median = rf'$m = ({np.round(median.nominal_value,1)} \\pm {np.round(median.std_dev,1)})$ nm'\n",
    "lb_mu = f'$\\mu = {np.round(mu.nominal_value,3)} \\pm {np.round(mu.std_dev,3)}$'\n",
    "lb_sig = f'$\\sigma = {np.round(sigma.nominal_value,3)} \\pm {np.round(sigma.std_dev,3)}$'\n",
    "\n",
    "# Add vertical markers for positions of calculated properties\n",
    "# Mode\n",
    "ax.plot([mode.nominal_value, mode.nominal_value], [0, pdf(mode.nominal_value, *pars)], c='tab:orange', ls='--', label=lb_mode)\n",
    "\n",
    "# Median\n",
    "ax.plot([median.nominal_value, median.nominal_value], [0, pdf(median.nominal_value, *pars)], c='tab:pink', ls='-', label=lb_median)\n",
    "\n",
    "# Mean\n",
    "ax.plot([mean.nominal_value, mean.nominal_value], [0, pdf(mean.nominal_value, *pars)], c='tab:blue', ls='-.', label=lb_mean)\n",
    "\n",
    "# Confidence intervall 68%\n",
    "ci = confidence68\n",
    "ax.plot([ci[0].nominal_value, ci[0].nominal_value], [0, pdf(ci[0].nominal_value, *pars)], c=pdfcol, ls='dotted')\n",
    "ax.plot([ci[1].nominal_value, ci[1].nominal_value], [0, pdf(ci[1].nominal_value, *pars)], c=pdfcol, ls='dotted')\n",
    "\n",
    "# Confidence intervall 95%\n",
    "ci = confidence95\n",
    "ax.plot([ci[0].nominal_value, ci[0].nominal_value], [0, pdf(ci[0].nominal_value, *pars)], c=pdfcol, ls='dotted')\n",
    "ax.plot([ci[1].nominal_value, ci[1].nominal_value], [0, pdf(ci[1].nominal_value, *pars)], c=pdfcol, ls='dotted')\n",
    "\n",
    "# Gemerate empty plots, so that fit parameters are added in legend\n",
    "plt.plot([], [], ' ', label=lb_std)\n",
    "plt.plot([], [], ' ', label='Fit parameters:')\n",
    "plt.plot([], [], ' ', label=lb_mu)\n",
    "plt.plot([], [], ' ', label=lb_sig)\n",
    "\n",
    "# Cosmetics \n",
    "ax.set_title(f'Log-normal fit to minimum Feret diameters', fontsize=9)\n",
    "ax.set_xlabel('Minimum Feret diameter / nm', fontsize=9)\n",
    "ax.set_ylabel(\"Normalized frequency\", fontsize=9)\n",
    "plt.tick_params(axis='both', which='major', labelsize=7.5)\n",
    "\n",
    "ax.set_xlim(0,)\n",
    "#ax.set_ylim(0, np.max(pdf(x, *pars))*1.8)\n",
    "\n",
    "ax.legend(loc='best', handlelength=1, fontsize=8, ncol=1, columnspacing=0.1)\n",
    "plt.tight_layout(pad=0.1)\n",
    "fig.savefig('plots/MinFeretDiameter_normalized.pdf', pad_inches=0)"
   ]
  },
  {
   "cell_type": "markdown",
   "id": "f87bea6d-a95a-4bc0-bf49-29f7b0b702ec",
   "metadata": {},
   "source": [
    "### Plot with absolute values on $y$-axis instead of normalized values  \n",
    "The above distributions show the normalized histograms (`density=True` keyword) and the fraction on the $y$ axis.  \n",
    "Alternatively, the absolute values (the actual number of counted grains/particles in the histogram bins) can also be displayed.  \n",
    "This is done by  \n",
    "  - Fitting the distribution to the normalized values (then we do not need to fit a scaling factor as another fit parameter)\n",
    "  - Plotting the histogram with absolute frequencies (`density=False`)\n",
    "  - Use a scaling factor to scale up the fitted distribution (taken from [here](https://stackoverflow.com/questions/41024455/histogram-with-non-normalized-fit-line-matplotlib))"
   ]
  },
  {
   "cell_type": "code",
   "execution_count": 42,
   "id": "b4dc2590-0361-4527-a804-2a4d8f8d2d4c",
   "metadata": {},
   "outputs": [
    {
     "name": "stdout",
     "output_type": "stream",
     "text": [
      "Mode:\t\t 59.3+/-0.9\n",
      "Median:\t\t 71.9+/-0.8\n",
      "Mean:\t\t 79.2+/-1.0\n",
      "Std. dev.:\t 36.6+/-1.2\n",
      "68% conf. intervall: 46.0+/-1.0 to 112.0+/-2.0\n",
      "95% conf. intervall: 30.0+/-1.0 to 173.0+/-4.0\n"
     ]
    },
    {
     "data": {
      "image/png": "[encoded data removed]",
      "text/plain": [
       "<Figure size 500x300 with 1 Axes>"
      ]
     },
     "metadata": {},
     "output_type": "display_data"
    }
   ],
   "source": [
    "# Create plot\n",
    "fig, ax = plt.subplots(figsize=(5, 3))\n",
    "\n",
    "# Fit distribution using normalized histogram\n",
    "n2, bins2, patches2 = ax.hist(data, bins='auto', density=True, facecolor = 'grey', alpha = 0, label=None)\n",
    "centers2 = (0.5*(bins[1:]+bins[:-1]))\n",
    "pars, cov = curve_fit(pdf, centers2, n2)\n",
    "\n",
    "# Plot histogram with absolute values, i.e. density=False\n",
    "n, bins, patches = ax.hist(data, bins='auto', density=False, facecolor = 'grey', alpha = 0.5, label=None)\n",
    "centers = (0.5*(bins[1:]+bins[:-1]))\n",
    "\n",
    "# Scaling factor for distribution\n",
    "# https://stackoverflow.com/questions/41024455/histogram-with-non-normalized-fit-line-matplotlib\n",
    "scaling_factor = sum(n * np.diff(bins))\n",
    "\n",
    "# Draw pdf\n",
    "pdfcol ='k'\n",
    "xmin, xmax = ax.get_xlim()\n",
    "x = np.linspace(xmin, xmax, 1000)\n",
    "ax.plot(x, pdf(x, *pars)*scaling_factor, pdfcol, linewidth = 1.5, label=None, zorder=100)\n",
    "\n",
    "# Add fit parameters (mu, sigma, mode) as labels\n",
    "# Errors are from diagonal elements of cov (covariance matrix) --> sqrt(Var)=Std dev\n",
    "mu, sigma = unumpy.uarray(pars, np.sqrt(np.diag(cov)))\n",
    "\n",
    "muStar = exp(mu)\n",
    "sigStar = exp(sigma)\n",
    "confidence68 = (muStar/sigStar, muStar*sigStar) \n",
    "confidence95 = (muStar/sigStar**2, muStar*sigStar**2) \n",
    "\n",
    "mode = exp(mu - sigma ** 2)\n",
    "median = exp(mu)\n",
    "mean = exp(mu + sigma ** 2 / 2)\n",
    "std = exp(mu + sigma**2/2) * sqrt(exp(sigma**2)-1)\n",
    "\n",
    "print(f'Mode:\\t\\t {mode}')\n",
    "print(f'Median:\\t\\t {median}')\n",
    "print(f'Mean:\\t\\t {mean}')\n",
    "print(f'Std. dev.:\\t {std}')\n",
    "print(f'68% conf. intervall: {np.round(confidence68[0].nominal_value)}+/-{np.round(confidence68[0].std_dev)} to {np.round(confidence68[1].nominal_value)}+/-{np.round(confidence68[1].std_dev)}')\n",
    "print(f'95% conf. intervall: {np.round(confidence95[0].nominal_value)}+/-{np.round(confidence95[0].std_dev)} to {np.round(confidence95[1].nominal_value)}+/-{np.round(confidence95[1].std_dev)}')\n",
    "\n",
    "# Plot labels\n",
    "lb_std = rf'$\\sigma_\\mathregular{{a}} = ({np.round(std.nominal_value,1)} \\pm {np.round(std.std_dev,1)})$ nm'\n",
    "lb_mean = rf'$\\mu_\\mathregular{{a}} = ({np.round(mean.nominal_value,1)} \\pm {np.round(mean.std_dev,1)})$ nm'\n",
    "lb_mode = rf'$M = ({np.round(mode.nominal_value,1)} \\pm {np.round(mode.std_dev,1)})$ nm'\n",
    "lb_median = rf'$m = ({np.round(median.nominal_value,1)} \\pm {np.round(median.std_dev,1)})$ nm'\n",
    "lb_mu = f'$\\mu = {np.round(mu.nominal_value,3)} \\pm {np.round(mu.std_dev,3)}$'\n",
    "lb_sig = f'$\\sigma = {np.round(sigma.nominal_value,3)} \\pm {np.round(sigma.std_dev,3)}$'\n",
    "\n",
    "# Add vertical markers for positions of calculated properties\n",
    "# Mode\n",
    "ax.plot([mode.nominal_value, mode.nominal_value], [0, pdf(mode.nominal_value, *pars)*scaling_factor], c='tab:orange', ls='--', label=lb_mode)\n",
    "\n",
    "# Median\n",
    "ax.plot([median.nominal_value, median.nominal_value], [0, pdf(median.nominal_value, *pars)*scaling_factor], c='tab:pink', ls='-', label=lb_median)\n",
    "\n",
    "# Mean\n",
    "ax.plot([mean.nominal_value, mean.nominal_value], [0, pdf(mean.nominal_value, *pars)*scaling_factor], c='tab:blue', ls='-.', label=lb_mean)\n",
    "\n",
    "# Confidence intervall 68%\n",
    "ci = confidence68\n",
    "ax.plot([ci[0].nominal_value, ci[0].nominal_value], [0, pdf(ci[0].nominal_value, *pars)*scaling_factor], c=pdfcol, ls='dotted')\n",
    "ax.plot([ci[1].nominal_value, ci[1].nominal_value], [0, pdf(ci[1].nominal_value, *pars)*scaling_factor], c=pdfcol, ls='dotted')\n",
    "\n",
    "# Confidence intervall 95%\n",
    "ci = confidence95\n",
    "ax.plot([ci[0].nominal_value, ci[0].nominal_value], [0, pdf(ci[0].nominal_value, *pars)*scaling_factor], c=pdfcol, ls='dotted')\n",
    "ax.plot([ci[1].nominal_value, ci[1].nominal_value], [0, pdf(ci[1].nominal_value, *pars)*scaling_factor], c=pdfcol, ls='dotted')\n",
    "\n",
    "# Gemerate empty plots, so that fit parameters are added in legend\n",
    "plt.plot([], [], ' ', label=lb_std)\n",
    "plt.plot([], [], ' ', label='Fit parameters:')\n",
    "plt.plot([], [], ' ', label=lb_mu)\n",
    "plt.plot([], [], ' ', label=lb_sig)\n",
    "\n",
    "# Cosmetics \n",
    "ax.set_title(f'Log-normal fit to minimum Feret diameters', fontsize=9)\n",
    "ax.set_xlabel('Minimum Feret diameter / nm', fontsize=9)\n",
    "ax.set_ylabel(\"Frequency\", fontsize=9)\n",
    "plt.tick_params(axis='both', which='major', labelsize=7.5)\n",
    "\n",
    "ax.set_xlim(0,)\n",
    "#ax.set_ylim(0, np.max(pdf(x, *pars))*1.8)\n",
    "\n",
    "ax.legend(loc='best', handlelength=1, fontsize=8, ncol=1, columnspacing=0.1)\n",
    "plt.tight_layout(pad=0.1)\n",
    "fig.savefig('plots/MinFeretDiameter_absolute.pdf', pad_inches=0)\n",
    "fig.savefig('plots/MinFeretDiameter_absolute.png', dpi=600, pad_inches=0)"
   ]
  }
 ],
 "metadata": {
  "kernelspec": {
   "display_name": "Python 3 (ipykernel)",
   "language": "python",
   "name": "python3"
  },
  "language_info": {
   "codemirror_mode": {
    "name": "ipython",
    "version": 3
   },
   "file_extension": ".py",
   "mimetype": "text/x-python",
   "name": "python",
   "nbconvert_exporter": "python",
   "pygments_lexer": "ipython3",
   "version": "3.9.13"
  }
 },
 "nbformat": 4,
 "nbformat_minor": 5
}
